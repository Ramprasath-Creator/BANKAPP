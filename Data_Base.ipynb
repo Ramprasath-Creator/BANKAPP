{
 "cells": [
  {
   "cell_type": "code",
   "execution_count": 1,
   "metadata": {},
   "outputs": [],
   "source": [
    "import sqlite3"
   ]
  },
  {
   "cell_type": "code",
   "execution_count": 189,
   "metadata": {},
   "outputs": [],
   "source": [
    "conn=sqlite3.connect('Customer.db')"
   ]
  },
  {
   "cell_type": "code",
   "execution_count": 190,
   "metadata": {},
   "outputs": [],
   "source": [
    "# query='''Create table Customer(Name text not null,Mobile_number text(10) primary key, Email_id text not null,Account_no varchar(16) not null,IFSC varchar(12) not null,Balance number(10) not null)'''"
   ]
  },
  {
   "cell_type": "code",
   "execution_count": 191,
   "metadata": {},
   "outputs": [
    {
     "data": {
      "text/plain": [
       "<sqlite3.Cursor at 0x1e1fb66b030>"
      ]
     },
     "execution_count": 191,
     "metadata": {},
     "output_type": "execute_result"
    }
   ],
   "source": [
    "# conn.execute(query)"
   ]
  },
  {
   "cell_type": "code",
   "execution_count": 192,
   "metadata": {},
   "outputs": [],
   "source": [
    "import random\n",
    "import string\n",
    "letters = string.ascii_lowercase\n",
    "no=string.digits\n",
    "def gmail():\n",
    "    gmail=''.join(random.choice(letters) for i in range(10))+'@gmail.com'\n",
    "    return gmail\n",
    "def ph():\n",
    "    ph=''.join(random.choice(no) for i in range(10))\n",
    "    return ph\n",
    "def acc():\n",
    "    acc=''.join(random.choice(no) for i in range(4))\n",
    "    return acc\n",
    "def cust():\n",
    "    cust=''.join(random.choice(letters) for i in range(5))\n",
    "    return cust\n",
    "def IFSC():\n",
    "    ifsc=''.join(random.choice(letters) for i in range(4))+''.join(random.choice(no) for i in range(7))\n",
    "    return ifsc"
   ]
  },
  {
   "cell_type": "code",
   "execution_count": 193,
   "metadata": {},
   "outputs": [],
   "source": [
    "query='''insert into Customer(Name,Mobile_number,Email_id,Account_no,IFSC,Balance) values(?,?,?,?,?,?)'''#,{},{},{},{},{})\""
   ]
  },
  {
   "cell_type": "code",
   "execution_count": 194,
   "metadata": {},
   "outputs": [],
   "source": [
    "for i in range(100):\n",
    "    val=(cust(),ph(),gmail(),'X'*12+acc(),IFSC(),random.randint(1,10000))\n",
    "    conn.execute(query,val)"
   ]
  },
  {
   "cell_type": "code",
   "execution_count": 195,
   "metadata": {},
   "outputs": [
    {
     "name": "stdout",
     "output_type": "stream",
     "text": [
      "('coqgr', '4676295826', 'iookhaaenp@gmail.com', 'XXXXXXXXXXXX7387', 'qido0167223', 843)\n",
      "('mwxzh', '1676507147', 'zuqfxtwojh@gmail.com', 'XXXXXXXXXXXX1079', 'ctzn5180472', 6941)\n",
      "('zotsc', '7223183997', 'pjjhtkovtq@gmail.com', 'XXXXXXXXXXXX4116', 'rwyf1756507', 8743)\n",
      "('iedht', '2619717721', 'jrtxswxrwl@gmail.com', 'XXXXXXXXXXXX3361', 'pzpq4882556', 4222)\n",
      "('somit', '4104957951', 'hjenumdwkz@gmail.com', 'XXXXXXXXXXXX1336', 'tmyq6510856', 4903)\n",
      "('ulbkw', '2135385351', 'jybmndkiaw@gmail.com', 'XXXXXXXXXXXX4848', 'gcat8088033', 8260)\n",
      "('fymns', '1019656409', 'iqtkuuuiay@gmail.com', 'XXXXXXXXXXXX3572', 'qfed5004816', 6423)\n",
      "('rmhym', '7900547982', 'ppjffatcba@gmail.com', 'XXXXXXXXXXXX3290', 'qwaq6572107', 539)\n",
      "('ompsc', '2059493856', 'kjmttifluo@gmail.com', 'XXXXXXXXXXXX2153', 'zhtj7749805', 9986)\n",
      "('hyykv', '8530695443', 'jxkfgxbnlw@gmail.com', 'XXXXXXXXXXXX6191', 'zlgf7033570', 8907)\n",
      "('uhfxn', '9098607357', 'yylkitmjzn@gmail.com', 'XXXXXXXXXXXX8942', 'iwon8614934', 187)\n",
      "('qdgax', '2987845904', 'qgzusoiups@gmail.com', 'XXXXXXXXXXXX6906', 'nzkt9489408', 1994)\n",
      "('ihbiv', '2706501625', 'nksebkrddi@gmail.com', 'XXXXXXXXXXXX0748', 'fbhc2017535', 132)\n",
      "('pcjhh', '6121277359', 'iarcqanony@gmail.com', 'XXXXXXXXXXXX6266', 'ranj6723007', 122)\n",
      "('dtqju', '0015545682', 'eubxqagusj@gmail.com', 'XXXXXXXXXXXX7419', 'ujzk8531917', 2644)\n",
      "('guqwk', '2237406387', 'pelhrifnmt@gmail.com', 'XXXXXXXXXXXX7976', 'vwip8388187', 9228)\n",
      "('mhqbn', '0800486837', 'zctxkbacee@gmail.com', 'XXXXXXXXXXXX0971', 'tzxg3611487', 395)\n",
      "('lvbvq', '6403597608', 'clryybeguu@gmail.com', 'XXXXXXXXXXXX7647', 'tunk3824099', 8622)\n",
      "('tvyjv', '2842588897', 'logvdwomia@gmail.com', 'XXXXXXXXXXXX5655', 'iqxu6910663', 7075)\n",
      "('lxeba', '5656635247', 'vrohodvdrp@gmail.com', 'XXXXXXXXXXXX9323', 'iczq3106036', 2861)\n",
      "('tuctu', '4452442926', 'bojoidymce@gmail.com', 'XXXXXXXXXXXX3381', 'uqsg0788985', 5752)\n",
      "('qvphl', '0712850988', 'alhrftgtrd@gmail.com', 'XXXXXXXXXXXX5451', 'kcfe3596017', 2579)\n",
      "('ewixq', '4605972542', 'steugxlkac@gmail.com', 'XXXXXXXXXXXX9168', 'ijaa5030102', 4172)\n",
      "('lgbjr', '8527092954', 'eeddhviday@gmail.com', 'XXXXXXXXXXXX0460', 'wumo8931629', 1569)\n",
      "('cgvqk', '2476911893', 'lolnqeeegx@gmail.com', 'XXXXXXXXXXXX3155', 'yppl9800530', 1086)\n",
      "('qrotm', '3145509760', 'cxlgdwmueq@gmail.com', 'XXXXXXXXXXXX6466', 'rhel0597210', 4592)\n",
      "('sfool', '7733162510', 'tdyxloktpu@gmail.com', 'XXXXXXXXXXXX9361', 'fqom1513831', 9599)\n",
      "('kukef', '3055346206', 'wlxgjindew@gmail.com', 'XXXXXXXXXXXX8683', 'dzni6886223', 3036)\n",
      "('qozmk', '0358760646', 'bdyebalnzg@gmail.com', 'XXXXXXXXXXXX4053', 'hqat1126101', 3641)\n",
      "('arcea', '9814140814', 'vyxpvmpqgr@gmail.com', 'XXXXXXXXXXXX1415', 'widt8524318', 4493)\n",
      "('gunvf', '0514186911', 'ijgzkjbymg@gmail.com', 'XXXXXXXXXXXX3631', 'shrj3523528', 1279)\n",
      "('bxfaw', '8820729376', 'uthpfysbsb@gmail.com', 'XXXXXXXXXXXX3665', 'iezq2072013', 7166)\n",
      "('lesdk', '9390004301', 'olsxpvshja@gmail.com', 'XXXXXXXXXXXX5937', 'zicd5649176', 2547)\n",
      "('jcypz', '9006560236', 'kghrpffhit@gmail.com', 'XXXXXXXXXXXX0634', 'mfjo5761232', 1447)\n",
      "('efyvu', '6814436039', 'fppuchmznu@gmail.com', 'XXXXXXXXXXXX1677', 'cztj2356753', 226)\n",
      "('qqghz', '2779197603', 'qsglqtnehh@gmail.com', 'XXXXXXXXXXXX2833', 'pnfo2449717', 3700)\n",
      "('nbvqi', '9455957282', 'yjdwdmaeww@gmail.com', 'XXXXXXXXXXXX2510', 'gjxk7435599', 9824)\n",
      "('prnom', '9979781097', 'tdtcfdhsao@gmail.com', 'XXXXXXXXXXXX3273', 'aoaq2118954', 6930)\n",
      "('chrku', '5133663173', 'lgphmiivfw@gmail.com', 'XXXXXXXXXXXX0089', 'uqee4533882', 1459)\n",
      "('lpjwv', '4548393609', 'umsbkuzuln@gmail.com', 'XXXXXXXXXXXX7688', 'orui0603730', 9012)\n",
      "('jmzee', '5043819405', 'mssfmttfkl@gmail.com', 'XXXXXXXXXXXX1456', 'ohca7574241', 5465)\n",
      "('jilpw', '1810856440', 'cxpsecjzrk@gmail.com', 'XXXXXXXXXXXX7535', 'zish8897469', 5277)\n",
      "('sgqab', '3317005660', 'kpdlcaovti@gmail.com', 'XXXXXXXXXXXX2283', 'oopp6513679', 3455)\n",
      "('jkhyk', '7038784263', 'ryoksdpqxi@gmail.com', 'XXXXXXXXXXXX9987', 'haqu9392009', 2018)\n",
      "('bdwbr', '8943434541', 'xcvlqfjsdb@gmail.com', 'XXXXXXXXXXXX5782', 'hcxe2977290', 2540)\n",
      "('recsr', '1065962071', 'xfwypxsnvl@gmail.com', 'XXXXXXXXXXXX1825', 'xthk6340883', 1077)\n",
      "('eqoot', '8040290276', 'qdlzewmfko@gmail.com', 'XXXXXXXXXXXX0367', 'urup4645824', 1269)\n",
      "('hmjhk', '0544470623', 'zjqedrjizh@gmail.com', 'XXXXXXXXXXXX1618', 'ayjx0287819', 944)\n",
      "('skwtv', '5959158089', 'nmkjlnawin@gmail.com', 'XXXXXXXXXXXX2907', 'ymqg5318595', 2705)\n",
      "('kyedk', '0425059202', 'rxdhgrbfma@gmail.com', 'XXXXXXXXXXXX8200', 'qstn4676753', 2923)\n",
      "('qjibq', '6081774731', 'jltqhtesad@gmail.com', 'XXXXXXXXXXXX4335', 'rhum1145231', 4826)\n",
      "('tvqmh', '2192399495', 'vuopvqczls@gmail.com', 'XXXXXXXXXXXX3506', 'iqay0498445', 3383)\n",
      "('eeyet', '0913267094', 'tzveejkxuk@gmail.com', 'XXXXXXXXXXXX7043', 'uysl5818688', 1410)\n",
      "('nheul', '0929922616', 'ztmleyxicy@gmail.com', 'XXXXXXXXXXXX2194', 'buws9199619', 4174)\n",
      "('tfvwm', '3964535607', 'fhtrbxxgfo@gmail.com', 'XXXXXXXXXXXX5927', 'juhv4527530', 7442)\n",
      "('quzup', '8277641383', 'xtrqjahkbe@gmail.com', 'XXXXXXXXXXXX8960', 'porz4596639', 1740)\n",
      "('zxmzf', '6838987372', 'fjckjzdkbg@gmail.com', 'XXXXXXXXXXXX4745', 'vylk3284161', 1323)\n",
      "('quguk', '7816934322', 'fykfjeoygw@gmail.com', 'XXXXXXXXXXXX2795', 'mafo0822385', 4220)\n",
      "('ouhni', '4350324166', 'tazmxztzkg@gmail.com', 'XXXXXXXXXXXX5368', 'hnbh6333952', 8682)\n",
      "('yggrv', '9670788917', 'osioyzfgok@gmail.com', 'XXXXXXXXXXXX9330', 'nhaj1713017', 3437)\n",
      "('zojkr', '5812073044', 'edqwxitvbj@gmail.com', 'XXXXXXXXXXXX3797', 'temj1435911', 6540)\n",
      "('cadmh', '9364048133', 'jzkqwzkdnb@gmail.com', 'XXXXXXXXXXXX8027', 'fdkx3217101', 9011)\n",
      "('dayzz', '1211968011', 'xylobohjhj@gmail.com', 'XXXXXXXXXXXX4994', 'rczw2983451', 1974)\n",
      "('nguom', '6699903192', 'oknkuommbm@gmail.com', 'XXXXXXXXXXXX0133', 'ovhc0008537', 5746)\n",
      "('aldku', '2870018775', 'kjxdvifchv@gmail.com', 'XXXXXXXXXXXX5983', 'mjmr3103005', 618)\n",
      "('xhpkp', '9764101515', 'wteiadugyc@gmail.com', 'XXXXXXXXXXXX0591', 'ygef1807464', 2145)\n",
      "('mrpet', '5897283905', 'ailvfyotwq@gmail.com', 'XXXXXXXXXXXX9834', 'xmhu2215749', 7409)\n",
      "('xtdon', '9878225557', 'dlwiktnnzk@gmail.com', 'XXXXXXXXXXXX9018', 'ixuv1739218', 3087)\n",
      "('pltzu', '4714211174', 'yigkgmviyn@gmail.com', 'XXXXXXXXXXXX9245', 'malv9913987', 752)\n",
      "('ogime', '5803252080', 'yqybmrxnwz@gmail.com', 'XXXXXXXXXXXX4425', 'mbfc3541917', 5080)\n",
      "('cigji', '3387230426', 'nzlayzxsis@gmail.com', 'XXXXXXXXXXXX4252', 'vqcu4779048', 1510)\n",
      "('caamv', '3788237866', 'iytfzdjxdq@gmail.com', 'XXXXXXXXXXXX6288', 'dmhq8657792', 3497)\n",
      "('vtgdz', '0862290924', 'pdrpxmzalp@gmail.com', 'XXXXXXXXXXXX1367', 'hgvr5585745', 2679)\n",
      "('ehkfc', '8144131766', 'ylkydnhlaj@gmail.com', 'XXXXXXXXXXXX1819', 'aojp2916282', 1329)\n",
      "('jiizm', '6081934153', 'fxxdrjcbyp@gmail.com', 'XXXXXXXXXXXX0801', 'ouum8403277', 9814)\n",
      "('zhdub', '4464972303', 'fmiaumseqz@gmail.com', 'XXXXXXXXXXXX4146', 'zrva2896344', 6436)\n",
      "('ynusp', '9245250771', 'viostewgzv@gmail.com', 'XXXXXXXXXXXX9812', 'sxip9085089', 8692)\n",
      "('jmioa', '5214664050', 'hutznxzdxv@gmail.com', 'XXXXXXXXXXXX2344', 'lsfq5248210', 4177)\n",
      "('spvka', '4652071707', 'tnhnfxkyhx@gmail.com', 'XXXXXXXXXXXX8786', 'tbgk0152334', 7793)\n",
      "('cyayi', '0376674861', 'rqyheaketx@gmail.com', 'XXXXXXXXXXXX6048', 'wsfq9222594', 2656)\n",
      "('jfmju', '5707323350', 'bqglbccbtg@gmail.com', 'XXXXXXXXXXXX2316', 'csdg0279840', 3436)\n",
      "('oqxzq', '4279521582', 'rdudzsufux@gmail.com', 'XXXXXXXXXXXX9448', 'xymt1682669', 3708)\n",
      "('wwayd', '5063003602', 'jhoisistev@gmail.com', 'XXXXXXXXXXXX6744', 'yhqd0855929', 4774)\n",
      "('loinu', '4198647986', 'cpymuqevmp@gmail.com', 'XXXXXXXXXXXX8594', 'fhvl8946109', 4704)\n",
      "('cvqjh', '4927357536', 'rbpxdjwizl@gmail.com', 'XXXXXXXXXXXX4712', 'opdd8376015', 4245)\n",
      "('gnqfw', '2046535429', 'mlkmrclynu@gmail.com', 'XXXXXXXXXXXX8131', 'xzks4027372', 6311)\n",
      "('jjrem', '5569056931', 'hugrtxwltq@gmail.com', 'XXXXXXXXXXXX3206', 'ummy0821775', 399)\n",
      "('njoah', '5204135434', 'qcdhaiymxz@gmail.com', 'XXXXXXXXXXXX6057', 'oyvq6105353', 8413)\n",
      "('xwisl', '2611450597', 'ixvvrgwyon@gmail.com', 'XXXXXXXXXXXX6099', 'ryqn9179207', 9440)\n",
      "('ssmsq', '6753288960', 'sfnoomydmy@gmail.com', 'XXXXXXXXXXXX7127', 'fyoh9590532', 51)\n",
      "('ypjfv', '0945386856', 'rkprlhkqst@gmail.com', 'XXXXXXXXXXXX7672', 'eqfg2412357', 999)\n",
      "('jppaj', '3954179328', 'ksybghpiho@gmail.com', 'XXXXXXXXXXXX3630', 'puko8590118', 7810)\n",
      "('jinsb', '4036342831', 'eafkzmpadk@gmail.com', 'XXXXXXXXXXXX6775', 'pamw0553566', 5450)\n",
      "('biwkj', '4858543244', 'izhggaipyu@gmail.com', 'XXXXXXXXXXXX0991', 'iqcu3524349', 9477)\n",
      "('jjoer', '8417674278', 'fngjxsciyq@gmail.com', 'XXXXXXXXXXXX4147', 'mnjv9316121', 4056)\n",
      "('htrla', '0785719317', 'ppcmsfitne@gmail.com', 'XXXXXXXXXXXX7682', 'rgxl2858754', 6360)\n",
      "('uxiob', '8922695609', 'pxijuiyyiq@gmail.com', 'XXXXXXXXXXXX6371', 'uksm6589502', 1956)\n",
      "('jafci', '5945903879', 'jetdsebeer@gmail.com', 'XXXXXXXXXXXX2197', 'nvmx0483339', 5633)\n",
      "('wehhu', '7297989008', 'vvjdcenpty@gmail.com', 'XXXXXXXXXXXX9040', 'wltv3052946', 8499)\n",
      "('kurdn', '1906631902', 'rjnrinxyfi@gmail.com', 'XXXXXXXXXXXX3970', 'lhaf4463384', 3617)\n"
     ]
    }
   ],
   "source": [
    "a=conn.execute(\"select * from customer\")\n",
    "for i in a:\n",
    "    print(i)"
   ]
  },
  {
   "cell_type": "code",
   "execution_count": 223,
   "metadata": {},
   "outputs": [],
   "source": [
    "def update(mob_send,mob_rec,amount):\n",
    "    query_send=\"select Balance from customer where Mobile_number={}\".format(mob_send)\n",
    "    bal_send=[i[0] for i in conn.execute(query_send)][0]\n",
    "    query_rec=\"select Balance from customer where Mobile_number={}\".format(mob_rec)\n",
    "    bal_rec=[i[0] for i in conn.execute(query_rec)][0]\n",
    "    if bal_send-amount<0:\n",
    "        return \"invalid amount\"\n",
    "    else:\n",
    "        bal_send=bal_send-amount\n",
    "        bal_rec=bal_rec+amount\n",
    "        query=\"update customer set Balance={bal} where Mobile_number={no}\".format(bal=bal_send,no=mob_send)\n",
    "        conn.execute(query)\n",
    "        query=\"update customer set Balance={bal} where Mobile_number={no}\".format(bal=bal_rec,no=mob_rec)\n",
    "        conn.execute(query)\n",
    "        conn.commit()\n",
    "        return \"done\""
   ]
  },
  {
   "cell_type": "code",
   "execution_count": 227,
   "metadata": {},
   "outputs": [
    {
     "name": "stdout",
     "output_type": "stream",
     "text": [
      "invalid amount\n"
     ]
    }
   ],
   "source": [
    "print(update(7297989008,1906631902,100000))"
   ]
  },
  {
   "cell_type": "code",
   "execution_count": 228,
   "metadata": {},
   "outputs": [
    {
     "name": "stdout",
     "output_type": "stream",
     "text": [
      "('coqgr', '4676295826', 'iookhaaenp@gmail.com', 'XXXXXXXXXXXX7387', 'qido0167223', 843)\n",
      "('mwxzh', '1676507147', 'zuqfxtwojh@gmail.com', 'XXXXXXXXXXXX1079', 'ctzn5180472', 6941)\n",
      "('zotsc', '7223183997', 'pjjhtkovtq@gmail.com', 'XXXXXXXXXXXX4116', 'rwyf1756507', 8743)\n",
      "('iedht', '2619717721', 'jrtxswxrwl@gmail.com', 'XXXXXXXXXXXX3361', 'pzpq4882556', 4222)\n",
      "('somit', '4104957951', 'hjenumdwkz@gmail.com', 'XXXXXXXXXXXX1336', 'tmyq6510856', 4903)\n",
      "('ulbkw', '2135385351', 'jybmndkiaw@gmail.com', 'XXXXXXXXXXXX4848', 'gcat8088033', 8260)\n",
      "('fymns', '1019656409', 'iqtkuuuiay@gmail.com', 'XXXXXXXXXXXX3572', 'qfed5004816', 6423)\n",
      "('rmhym', '7900547982', 'ppjffatcba@gmail.com', 'XXXXXXXXXXXX3290', 'qwaq6572107', 539)\n",
      "('ompsc', '2059493856', 'kjmttifluo@gmail.com', 'XXXXXXXXXXXX2153', 'zhtj7749805', 9986)\n",
      "('hyykv', '8530695443', 'jxkfgxbnlw@gmail.com', 'XXXXXXXXXXXX6191', 'zlgf7033570', 8907)\n",
      "('uhfxn', '9098607357', 'yylkitmjzn@gmail.com', 'XXXXXXXXXXXX8942', 'iwon8614934', 187)\n",
      "('qdgax', '2987845904', 'qgzusoiups@gmail.com', 'XXXXXXXXXXXX6906', 'nzkt9489408', 1994)\n",
      "('ihbiv', '2706501625', 'nksebkrddi@gmail.com', 'XXXXXXXXXXXX0748', 'fbhc2017535', 132)\n",
      "('pcjhh', '6121277359', 'iarcqanony@gmail.com', 'XXXXXXXXXXXX6266', 'ranj6723007', 122)\n",
      "('dtqju', '0015545682', 'eubxqagusj@gmail.com', 'XXXXXXXXXXXX7419', 'ujzk8531917', 2644)\n",
      "('guqwk', '2237406387', 'pelhrifnmt@gmail.com', 'XXXXXXXXXXXX7976', 'vwip8388187', 9228)\n",
      "('mhqbn', '0800486837', 'zctxkbacee@gmail.com', 'XXXXXXXXXXXX0971', 'tzxg3611487', 395)\n",
      "('lvbvq', '6403597608', 'clryybeguu@gmail.com', 'XXXXXXXXXXXX7647', 'tunk3824099', 8622)\n",
      "('tvyjv', '2842588897', 'logvdwomia@gmail.com', 'XXXXXXXXXXXX5655', 'iqxu6910663', 7075)\n",
      "('lxeba', '5656635247', 'vrohodvdrp@gmail.com', 'XXXXXXXXXXXX9323', 'iczq3106036', 2861)\n",
      "('tuctu', '4452442926', 'bojoidymce@gmail.com', 'XXXXXXXXXXXX3381', 'uqsg0788985', 5752)\n",
      "('qvphl', '0712850988', 'alhrftgtrd@gmail.com', 'XXXXXXXXXXXX5451', 'kcfe3596017', 2579)\n",
      "('ewixq', '4605972542', 'steugxlkac@gmail.com', 'XXXXXXXXXXXX9168', 'ijaa5030102', 4172)\n",
      "('lgbjr', '8527092954', 'eeddhviday@gmail.com', 'XXXXXXXXXXXX0460', 'wumo8931629', 1569)\n",
      "('cgvqk', '2476911893', 'lolnqeeegx@gmail.com', 'XXXXXXXXXXXX3155', 'yppl9800530', 1086)\n",
      "('qrotm', '3145509760', 'cxlgdwmueq@gmail.com', 'XXXXXXXXXXXX6466', 'rhel0597210', 4592)\n",
      "('sfool', '7733162510', 'tdyxloktpu@gmail.com', 'XXXXXXXXXXXX9361', 'fqom1513831', 9599)\n",
      "('kukef', '3055346206', 'wlxgjindew@gmail.com', 'XXXXXXXXXXXX8683', 'dzni6886223', 3036)\n",
      "('qozmk', '0358760646', 'bdyebalnzg@gmail.com', 'XXXXXXXXXXXX4053', 'hqat1126101', 3641)\n",
      "('arcea', '9814140814', 'vyxpvmpqgr@gmail.com', 'XXXXXXXXXXXX1415', 'widt8524318', 4493)\n",
      "('gunvf', '0514186911', 'ijgzkjbymg@gmail.com', 'XXXXXXXXXXXX3631', 'shrj3523528', 1279)\n",
      "('bxfaw', '8820729376', 'uthpfysbsb@gmail.com', 'XXXXXXXXXXXX3665', 'iezq2072013', 7166)\n",
      "('lesdk', '9390004301', 'olsxpvshja@gmail.com', 'XXXXXXXXXXXX5937', 'zicd5649176', 2547)\n",
      "('jcypz', '9006560236', 'kghrpffhit@gmail.com', 'XXXXXXXXXXXX0634', 'mfjo5761232', 1447)\n",
      "('efyvu', '6814436039', 'fppuchmznu@gmail.com', 'XXXXXXXXXXXX1677', 'cztj2356753', 226)\n",
      "('qqghz', '2779197603', 'qsglqtnehh@gmail.com', 'XXXXXXXXXXXX2833', 'pnfo2449717', 3700)\n",
      "('nbvqi', '9455957282', 'yjdwdmaeww@gmail.com', 'XXXXXXXXXXXX2510', 'gjxk7435599', 9824)\n",
      "('prnom', '9979781097', 'tdtcfdhsao@gmail.com', 'XXXXXXXXXXXX3273', 'aoaq2118954', 6930)\n",
      "('chrku', '5133663173', 'lgphmiivfw@gmail.com', 'XXXXXXXXXXXX0089', 'uqee4533882', 1459)\n",
      "('lpjwv', '4548393609', 'umsbkuzuln@gmail.com', 'XXXXXXXXXXXX7688', 'orui0603730', 9012)\n",
      "('jmzee', '5043819405', 'mssfmttfkl@gmail.com', 'XXXXXXXXXXXX1456', 'ohca7574241', 5465)\n",
      "('jilpw', '1810856440', 'cxpsecjzrk@gmail.com', 'XXXXXXXXXXXX7535', 'zish8897469', 5277)\n",
      "('sgqab', '3317005660', 'kpdlcaovti@gmail.com', 'XXXXXXXXXXXX2283', 'oopp6513679', 3455)\n",
      "('jkhyk', '7038784263', 'ryoksdpqxi@gmail.com', 'XXXXXXXXXXXX9987', 'haqu9392009', 2018)\n",
      "('bdwbr', '8943434541', 'xcvlqfjsdb@gmail.com', 'XXXXXXXXXXXX5782', 'hcxe2977290', 2540)\n",
      "('recsr', '1065962071', 'xfwypxsnvl@gmail.com', 'XXXXXXXXXXXX1825', 'xthk6340883', 1077)\n",
      "('eqoot', '8040290276', 'qdlzewmfko@gmail.com', 'XXXXXXXXXXXX0367', 'urup4645824', 1269)\n",
      "('hmjhk', '0544470623', 'zjqedrjizh@gmail.com', 'XXXXXXXXXXXX1618', 'ayjx0287819', 944)\n",
      "('skwtv', '5959158089', 'nmkjlnawin@gmail.com', 'XXXXXXXXXXXX2907', 'ymqg5318595', 2705)\n",
      "('kyedk', '0425059202', 'rxdhgrbfma@gmail.com', 'XXXXXXXXXXXX8200', 'qstn4676753', 2923)\n",
      "('qjibq', '6081774731', 'jltqhtesad@gmail.com', 'XXXXXXXXXXXX4335', 'rhum1145231', 4826)\n",
      "('tvqmh', '2192399495', 'vuopvqczls@gmail.com', 'XXXXXXXXXXXX3506', 'iqay0498445', 3383)\n",
      "('eeyet', '0913267094', 'tzveejkxuk@gmail.com', 'XXXXXXXXXXXX7043', 'uysl5818688', 1410)\n",
      "('nheul', '0929922616', 'ztmleyxicy@gmail.com', 'XXXXXXXXXXXX2194', 'buws9199619', 4174)\n",
      "('tfvwm', '3964535607', 'fhtrbxxgfo@gmail.com', 'XXXXXXXXXXXX5927', 'juhv4527530', 7442)\n",
      "('quzup', '8277641383', 'xtrqjahkbe@gmail.com', 'XXXXXXXXXXXX8960', 'porz4596639', 1740)\n",
      "('zxmzf', '6838987372', 'fjckjzdkbg@gmail.com', 'XXXXXXXXXXXX4745', 'vylk3284161', 1323)\n",
      "('quguk', '7816934322', 'fykfjeoygw@gmail.com', 'XXXXXXXXXXXX2795', 'mafo0822385', 4220)\n",
      "('ouhni', '4350324166', 'tazmxztzkg@gmail.com', 'XXXXXXXXXXXX5368', 'hnbh6333952', 8682)\n",
      "('yggrv', '9670788917', 'osioyzfgok@gmail.com', 'XXXXXXXXXXXX9330', 'nhaj1713017', 3437)\n",
      "('zojkr', '5812073044', 'edqwxitvbj@gmail.com', 'XXXXXXXXXXXX3797', 'temj1435911', 6540)\n",
      "('cadmh', '9364048133', 'jzkqwzkdnb@gmail.com', 'XXXXXXXXXXXX8027', 'fdkx3217101', 9011)\n",
      "('dayzz', '1211968011', 'xylobohjhj@gmail.com', 'XXXXXXXXXXXX4994', 'rczw2983451', 1974)\n",
      "('nguom', '6699903192', 'oknkuommbm@gmail.com', 'XXXXXXXXXXXX0133', 'ovhc0008537', 5746)\n",
      "('aldku', '2870018775', 'kjxdvifchv@gmail.com', 'XXXXXXXXXXXX5983', 'mjmr3103005', 618)\n",
      "('xhpkp', '9764101515', 'wteiadugyc@gmail.com', 'XXXXXXXXXXXX0591', 'ygef1807464', 2145)\n",
      "('mrpet', '5897283905', 'ailvfyotwq@gmail.com', 'XXXXXXXXXXXX9834', 'xmhu2215749', 7409)\n",
      "('xtdon', '9878225557', 'dlwiktnnzk@gmail.com', 'XXXXXXXXXXXX9018', 'ixuv1739218', 3087)\n",
      "('pltzu', '4714211174', 'yigkgmviyn@gmail.com', 'XXXXXXXXXXXX9245', 'malv9913987', 752)\n",
      "('ogime', '5803252080', 'yqybmrxnwz@gmail.com', 'XXXXXXXXXXXX4425', 'mbfc3541917', 5080)\n",
      "('cigji', '3387230426', 'nzlayzxsis@gmail.com', 'XXXXXXXXXXXX4252', 'vqcu4779048', 1510)\n",
      "('caamv', '3788237866', 'iytfzdjxdq@gmail.com', 'XXXXXXXXXXXX6288', 'dmhq8657792', 3497)\n",
      "('vtgdz', '0862290924', 'pdrpxmzalp@gmail.com', 'XXXXXXXXXXXX1367', 'hgvr5585745', 2679)\n",
      "('ehkfc', '8144131766', 'ylkydnhlaj@gmail.com', 'XXXXXXXXXXXX1819', 'aojp2916282', 1329)\n",
      "('jiizm', '6081934153', 'fxxdrjcbyp@gmail.com', 'XXXXXXXXXXXX0801', 'ouum8403277', 9814)\n",
      "('zhdub', '4464972303', 'fmiaumseqz@gmail.com', 'XXXXXXXXXXXX4146', 'zrva2896344', 6436)\n",
      "('ynusp', '9245250771', 'viostewgzv@gmail.com', 'XXXXXXXXXXXX9812', 'sxip9085089', 8692)\n",
      "('jmioa', '5214664050', 'hutznxzdxv@gmail.com', 'XXXXXXXXXXXX2344', 'lsfq5248210', 4177)\n",
      "('spvka', '4652071707', 'tnhnfxkyhx@gmail.com', 'XXXXXXXXXXXX8786', 'tbgk0152334', 7793)\n",
      "('cyayi', '0376674861', 'rqyheaketx@gmail.com', 'XXXXXXXXXXXX6048', 'wsfq9222594', 2656)\n",
      "('jfmju', '5707323350', 'bqglbccbtg@gmail.com', 'XXXXXXXXXXXX2316', 'csdg0279840', 3436)\n",
      "('oqxzq', '4279521582', 'rdudzsufux@gmail.com', 'XXXXXXXXXXXX9448', 'xymt1682669', 3708)\n",
      "('wwayd', '5063003602', 'jhoisistev@gmail.com', 'XXXXXXXXXXXX6744', 'yhqd0855929', 4774)\n",
      "('loinu', '4198647986', 'cpymuqevmp@gmail.com', 'XXXXXXXXXXXX8594', 'fhvl8946109', 4704)\n",
      "('cvqjh', '4927357536', 'rbpxdjwizl@gmail.com', 'XXXXXXXXXXXX4712', 'opdd8376015', 4245)\n",
      "('gnqfw', '2046535429', 'mlkmrclynu@gmail.com', 'XXXXXXXXXXXX8131', 'xzks4027372', 6311)\n",
      "('jjrem', '5569056931', 'hugrtxwltq@gmail.com', 'XXXXXXXXXXXX3206', 'ummy0821775', 399)\n",
      "('njoah', '5204135434', 'qcdhaiymxz@gmail.com', 'XXXXXXXXXXXX6057', 'oyvq6105353', 8413)\n",
      "('xwisl', '2611450597', 'ixvvrgwyon@gmail.com', 'XXXXXXXXXXXX6099', 'ryqn9179207', 9440)\n",
      "('ssmsq', '6753288960', 'sfnoomydmy@gmail.com', 'XXXXXXXXXXXX7127', 'fyoh9590532', 51)\n",
      "('ypjfv', '0945386856', 'rkprlhkqst@gmail.com', 'XXXXXXXXXXXX7672', 'eqfg2412357', 999)\n",
      "('jppaj', '3954179328', 'ksybghpiho@gmail.com', 'XXXXXXXXXXXX3630', 'puko8590118', 7810)\n",
      "('jinsb', '4036342831', 'eafkzmpadk@gmail.com', 'XXXXXXXXXXXX6775', 'pamw0553566', 5450)\n",
      "('biwkj', '4858543244', 'izhggaipyu@gmail.com', 'XXXXXXXXXXXX0991', 'iqcu3524349', 9477)\n",
      "('jjoer', '8417674278', 'fngjxsciyq@gmail.com', 'XXXXXXXXXXXX4147', 'mnjv9316121', 4056)\n",
      "('htrla', '0785719317', 'ppcmsfitne@gmail.com', 'XXXXXXXXXXXX7682', 'rgxl2858754', 6360)\n",
      "('uxiob', '8922695609', 'pxijuiyyiq@gmail.com', 'XXXXXXXXXXXX6371', 'uksm6589502', 1956)\n",
      "('jafci', '5945903879', 'jetdsebeer@gmail.com', 'XXXXXXXXXXXX2197', 'nvmx0483339', 5633)\n",
      "('wehhu', '7297989008', 'vvjdcenpty@gmail.com', 'XXXXXXXXXXXX9040', 'wltv3052946', 8399)\n",
      "('kurdn', '1906631902', 'rjnrinxyfi@gmail.com', 'XXXXXXXXXXXX3970', 'lhaf4463384', 3717)\n"
     ]
    }
   ],
   "source": [
    "a=conn.execute(\"select * from customer\")\n",
    "for i in a:\n",
    "    print(i)"
   ]
  },
  {
   "cell_type": "code",
   "execution_count": 255,
   "metadata": {},
   "outputs": [
    {
     "name": "stdin",
     "output_type": "stream",
     "text": [
      " k\n"
     ]
    },
    {
     "name": "stdout",
     "output_type": "stream",
     "text": [
      "('kukef', '3055346206', 'wlxgjindew@gmail.com', 'XXXXXXXXXXXX8683', 'dzni6886223', 3036)\n",
      "('kyedk', '0425059202', 'rxdhgrbfma@gmail.com', 'XXXXXXXXXXXX8200', 'qstn4676753', 2923)\n",
      "('kurdn', '1906631902', 'rjnrinxyfi@gmail.com', 'XXXXXXXXXXXX3970', 'lhaf4463384', 3717)\n"
     ]
    },
    {
     "name": "stdin",
     "output_type": "stream",
     "text": [
      " u\n"
     ]
    },
    {
     "name": "stdout",
     "output_type": "stream",
     "text": [
      "('ulbkw', '2135385351', 'jybmndkiaw@gmail.com', 'XXXXXXXXXXXX4848', 'gcat8088033', 8260)\n",
      "('uhfxn', '9098607357', 'yylkitmjzn@gmail.com', 'XXXXXXXXXXXX8942', 'iwon8614934', 187)\n",
      "('uxiob', '8922695609', 'pxijuiyyiq@gmail.com', 'XXXXXXXXXXXX6371', 'uksm6589502', 1956)\n"
     ]
    },
    {
     "name": "stdin",
     "output_type": "stream",
     "text": [
      " ku\n"
     ]
    },
    {
     "name": "stdout",
     "output_type": "stream",
     "text": [
      "('kukef', '3055346206', 'wlxgjindew@gmail.com', 'XXXXXXXXXXXX8683', 'dzni6886223', 3036)\n",
      "('kurdn', '1906631902', 'rjnrinxyfi@gmail.com', 'XXXXXXXXXXXX3970', 'lhaf4463384', 3717)\n"
     ]
    },
    {
     "name": "stdin",
     "output_type": "stream",
     "text": [
      " kef\n",
      " kukef\n"
     ]
    },
    {
     "name": "stdout",
     "output_type": "stream",
     "text": [
      "('kukef', '3055346206', 'wlxgjindew@gmail.com', 'XXXXXXXXXXXX8683', 'dzni6886223', 3036)\n"
     ]
    },
    {
     "name": "stdin",
     "output_type": "stream",
     "text": [
      " end \n",
      " j\n"
     ]
    },
    {
     "name": "stdout",
     "output_type": "stream",
     "text": [
      "('jcypz', '9006560236', 'kghrpffhit@gmail.com', 'XXXXXXXXXXXX0634', 'mfjo5761232', 1447)\n",
      "('jmzee', '5043819405', 'mssfmttfkl@gmail.com', 'XXXXXXXXXXXX1456', 'ohca7574241', 5465)\n",
      "('jilpw', '1810856440', 'cxpsecjzrk@gmail.com', 'XXXXXXXXXXXX7535', 'zish8897469', 5277)\n",
      "('jkhyk', '7038784263', 'ryoksdpqxi@gmail.com', 'XXXXXXXXXXXX9987', 'haqu9392009', 2018)\n",
      "('jiizm', '6081934153', 'fxxdrjcbyp@gmail.com', 'XXXXXXXXXXXX0801', 'ouum8403277', 9814)\n",
      "('jmioa', '5214664050', 'hutznxzdxv@gmail.com', 'XXXXXXXXXXXX2344', 'lsfq5248210', 4177)\n",
      "('jfmju', '5707323350', 'bqglbccbtg@gmail.com', 'XXXXXXXXXXXX2316', 'csdg0279840', 3436)\n",
      "('jjrem', '5569056931', 'hugrtxwltq@gmail.com', 'XXXXXXXXXXXX3206', 'ummy0821775', 399)\n",
      "('jppaj', '3954179328', 'ksybghpiho@gmail.com', 'XXXXXXXXXXXX3630', 'puko8590118', 7810)\n",
      "('jinsb', '4036342831', 'eafkzmpadk@gmail.com', 'XXXXXXXXXXXX6775', 'pamw0553566', 5450)\n",
      "('jjoer', '8417674278', 'fngjxsciyq@gmail.com', 'XXXXXXXXXXXX4147', 'mnjv9316121', 4056)\n",
      "('jafci', '5945903879', 'jetdsebeer@gmail.com', 'XXXXXXXXXXXX2197', 'nvmx0483339', 5633)\n"
     ]
    },
    {
     "name": "stdin",
     "output_type": "stream",
     "text": [
      " jjrem\n"
     ]
    },
    {
     "name": "stdout",
     "output_type": "stream",
     "text": [
      "('jjrem', '5569056931', 'hugrtxwltq@gmail.com', 'XXXXXXXXXXXX3206', 'ummy0821775', 399)\n"
     ]
    },
    {
     "ename": "KeyboardInterrupt",
     "evalue": "Interrupted by user",
     "output_type": "error",
     "traceback": [
      "\u001b[1;31m---------------------------------------------------------------------------\u001b[0m",
      "\u001b[1;31mKeyboardInterrupt\u001b[0m                         Traceback (most recent call last)",
      "\u001b[1;32m<ipython-input-255-46c837a4c11e>\u001b[0m in \u001b[0;36m<module>\u001b[1;34m\u001b[0m\n\u001b[0;32m      1\u001b[0m \u001b[1;32mwhile\u001b[0m \u001b[1;32mTrue\u001b[0m\u001b[1;33m:\u001b[0m\u001b[1;33m\u001b[0m\u001b[1;33m\u001b[0m\u001b[0m\n\u001b[1;32m----> 2\u001b[1;33m     \u001b[0ma\u001b[0m\u001b[1;33m=\u001b[0m\u001b[0minput\u001b[0m\u001b[1;33m(\u001b[0m\u001b[1;33m)\u001b[0m\u001b[1;33m\u001b[0m\u001b[1;33m\u001b[0m\u001b[0m\n\u001b[0m\u001b[0;32m      3\u001b[0m     \u001b[0ma\u001b[0m\u001b[1;33m=\u001b[0m\u001b[1;34m\"'\"\u001b[0m\u001b[1;33m+\u001b[0m\u001b[0ma\u001b[0m\u001b[1;33m+\u001b[0m\u001b[1;34m'%'\u001b[0m\u001b[1;33m+\u001b[0m\u001b[1;34m\"'\"\u001b[0m\u001b[1;33m\u001b[0m\u001b[1;33m\u001b[0m\u001b[0m\n\u001b[0;32m      4\u001b[0m     \u001b[0mquery\u001b[0m\u001b[1;33m=\u001b[0m\u001b[1;34m\"select * from customer where Name like {name}\"\u001b[0m\u001b[1;33m.\u001b[0m\u001b[0mformat\u001b[0m\u001b[1;33m(\u001b[0m\u001b[0mname\u001b[0m\u001b[1;33m=\u001b[0m\u001b[0ma\u001b[0m\u001b[1;33m)\u001b[0m\u001b[1;33m\u001b[0m\u001b[1;33m\u001b[0m\u001b[0m\n\u001b[0;32m      5\u001b[0m     \u001b[1;32mfor\u001b[0m \u001b[0mi\u001b[0m \u001b[1;32min\u001b[0m \u001b[0mconn\u001b[0m\u001b[1;33m.\u001b[0m\u001b[0mexecute\u001b[0m\u001b[1;33m(\u001b[0m\u001b[0mquery\u001b[0m\u001b[1;33m)\u001b[0m\u001b[1;33m:\u001b[0m\u001b[1;33m\u001b[0m\u001b[1;33m\u001b[0m\u001b[0m\n",
      "\u001b[1;32m~\\anaconda3\\lib\\site-packages\\ipykernel\\kernelbase.py\u001b[0m in \u001b[0;36mraw_input\u001b[1;34m(self, prompt)\u001b[0m\n\u001b[0;32m    858\u001b[0m                 \u001b[1;34m\"raw_input was called, but this frontend does not support input requests.\"\u001b[0m\u001b[1;33m\u001b[0m\u001b[1;33m\u001b[0m\u001b[0m\n\u001b[0;32m    859\u001b[0m             )\n\u001b[1;32m--> 860\u001b[1;33m         return self._input_request(str(prompt),\n\u001b[0m\u001b[0;32m    861\u001b[0m             \u001b[0mself\u001b[0m\u001b[1;33m.\u001b[0m\u001b[0m_parent_ident\u001b[0m\u001b[1;33m,\u001b[0m\u001b[1;33m\u001b[0m\u001b[1;33m\u001b[0m\u001b[0m\n\u001b[0;32m    862\u001b[0m             \u001b[0mself\u001b[0m\u001b[1;33m.\u001b[0m\u001b[0m_parent_header\u001b[0m\u001b[1;33m,\u001b[0m\u001b[1;33m\u001b[0m\u001b[1;33m\u001b[0m\u001b[0m\n",
      "\u001b[1;32m~\\anaconda3\\lib\\site-packages\\ipykernel\\kernelbase.py\u001b[0m in \u001b[0;36m_input_request\u001b[1;34m(self, prompt, ident, parent, password)\u001b[0m\n\u001b[0;32m    902\u001b[0m             \u001b[1;32mexcept\u001b[0m \u001b[0mKeyboardInterrupt\u001b[0m\u001b[1;33m:\u001b[0m\u001b[1;33m\u001b[0m\u001b[1;33m\u001b[0m\u001b[0m\n\u001b[0;32m    903\u001b[0m                 \u001b[1;31m# re-raise KeyboardInterrupt, to truncate traceback\u001b[0m\u001b[1;33m\u001b[0m\u001b[1;33m\u001b[0m\u001b[1;33m\u001b[0m\u001b[0m\n\u001b[1;32m--> 904\u001b[1;33m                 \u001b[1;32mraise\u001b[0m \u001b[0mKeyboardInterrupt\u001b[0m\u001b[1;33m(\u001b[0m\u001b[1;34m\"Interrupted by user\"\u001b[0m\u001b[1;33m)\u001b[0m \u001b[1;32mfrom\u001b[0m \u001b[1;32mNone\u001b[0m\u001b[1;33m\u001b[0m\u001b[1;33m\u001b[0m\u001b[0m\n\u001b[0m\u001b[0;32m    905\u001b[0m             \u001b[1;32mexcept\u001b[0m \u001b[0mException\u001b[0m \u001b[1;32mas\u001b[0m \u001b[0me\u001b[0m\u001b[1;33m:\u001b[0m\u001b[1;33m\u001b[0m\u001b[1;33m\u001b[0m\u001b[0m\n\u001b[0;32m    906\u001b[0m                 \u001b[0mself\u001b[0m\u001b[1;33m.\u001b[0m\u001b[0mlog\u001b[0m\u001b[1;33m.\u001b[0m\u001b[0mwarning\u001b[0m\u001b[1;33m(\u001b[0m\u001b[1;34m\"Invalid Message:\"\u001b[0m\u001b[1;33m,\u001b[0m \u001b[0mexc_info\u001b[0m\u001b[1;33m=\u001b[0m\u001b[1;32mTrue\u001b[0m\u001b[1;33m)\u001b[0m\u001b[1;33m\u001b[0m\u001b[1;33m\u001b[0m\u001b[0m\n",
      "\u001b[1;31mKeyboardInterrupt\u001b[0m: Interrupted by user"
     ]
    }
   ],
   "source": [
    "while True:\n",
    "    a=input()\n",
    "    a=\"'\"+a+'%'+\"'\"\n",
    "    query=\"select * from customer where Name like {name}\".format(name=a)\n",
    "    for i in conn.execute(query):\n",
    "        print(i)"
   ]
  }
 ],
 "metadata": {
  "kernelspec": {
   "display_name": "Python 3",
   "language": "python",
   "name": "python3"
  },
  "language_info": {
   "codemirror_mode": {
    "name": "ipython",
    "version": 3
   },
   "file_extension": ".py",
   "mimetype": "text/x-python",
   "name": "python",
   "nbconvert_exporter": "python",
   "pygments_lexer": "ipython3",
   "version": "3.8.5"
  }
 },
 "nbformat": 4,
 "nbformat_minor": 4
}
